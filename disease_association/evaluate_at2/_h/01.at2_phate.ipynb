{
 "cells": [
  {
   "cell_type": "raw",
   "id": "1a55a536-77f2-41ea-a7ad-acae4770081a",
   "metadata": {},
   "source": [
    "---\n",
    "title: \"Dimensional reduction with PHATE: AT2 and COPD\"\n",
    "author: \"Kynon J Benjamin\"\n",
    "date: \"4/25/2024\"\n",
    "execute: \n",
    "  enable: true\n",
    "format: \n",
    "  ipynb:\n",
    "    number-sections: true\n",
    "    output-file: at2_phate.ipynb\n",
    "  html:\n",
    "    toc: true\n",
    "    toc-depth: 3\n",
    "    toc-location: right-body\n",
    "    number-sections: true\n",
    "    theme: darkly\n",
    "    code-fold: false\n",
    "    output-file: at2_phate.html\n",
    "jupyter: python3\n",
    "---"
   ]
  },
  {
   "cell_type": "markdown",
   "id": "cad4e4fd-d291-42fd-bc8e-16228ada77fc",
   "metadata": {},
   "source": [
    "# Import libraries"
   ]
  },
  {
   "cell_type": "code",
   "execution_count": null,
   "id": "cdee0f9f-5e61-4beb-a1a6-42d3d12f9689",
   "metadata": {},
   "outputs": [],
   "source": [
    "import numpy as np\n",
    "import scanpy as sc\n",
    "import pandas as pd\n",
    "import polars as pl\n",
    "import seaborn as sns\n",
    "import matplotlib.pyplot as plt\n",
    "from scipy.stats import f_oneway\n",
    "import phate, scprep, session_info\n",
    "from scipy.stats import mannwhitneyu, ttest_ind\n",
    "from statsmodels.stats.multicomp import MultiComparison"
   ]
  },
  {
   "cell_type": "code",
   "execution_count": null,
   "id": "c69f6b63-ca18-4a9b-bc20-23ce9f242d26",
   "metadata": {},
   "outputs": [],
   "source": [
    "%matplotlib inline\n",
    "sc.settings.verbosity = 3"
   ]
  },
  {
   "cell_type": "markdown",
   "id": "ae0a08e9-cb0f-4352-aadd-e44757e8ea16",
   "metadata": {},
   "source": [
    "# Load data"
   ]
  },
  {
   "cell_type": "code",
   "execution_count": null,
   "id": "38a53dd0-58e1-4056-a980-4d951272495b",
   "metadata": {},
   "outputs": [],
   "source": [
    "adata = sc.read_h5ad(\"../../_m/ipf_dataset.h5ad\")\n",
    "adata"
   ]
  },
  {
   "cell_type": "markdown",
   "id": "c8960532-8596-48c6-b121-6f1adaad9e60",
   "metadata": {},
   "source": [
    "### Subset for AT2 cell type"
   ]
  },
  {
   "cell_type": "code",
   "execution_count": null,
   "id": "d2848b5e-f768-4b02-a549-6ecbd5936ea8",
   "metadata": {},
   "outputs": [],
   "source": [
    "adata.obs.cell_type.unique()"
   ]
  },
  {
   "cell_type": "code",
   "execution_count": null,
   "id": "d3f39957-90f3-4962-ba86-15253381fb03",
   "metadata": {},
   "outputs": [],
   "source": [
    "new_adata = adata[adata.obs[\"cell_type\"] == \"ATII\"]\n",
    "new_adata"
   ]
  },
  {
   "cell_type": "markdown",
   "id": "e0c43b5c-2859-486e-b9b6-7030d79dc19e",
   "metadata": {},
   "source": [
    "### Convert to counts matrix"
   ]
  },
  {
   "cell_type": "code",
   "execution_count": null,
   "id": "5ec3863c-694d-4390-aa17-679e8b212699",
   "metadata": {},
   "outputs": [],
   "source": [
    "ipf_counts = pd.DataFrame(new_adata.X.toarray(), \n",
    "                          columns=[new_adata.var.index],\n",
    "                          index=new_adata.obs.index)\n",
    "print(ipf_counts.shape)\n",
    "ipf_counts.head(2)"
   ]
  },
  {
   "cell_type": "code",
   "execution_count": null,
   "id": "56ab57f2-1b20-4d54-bd26-b8ffce507d2d",
   "metadata": {},
   "outputs": [],
   "source": [
    "scprep.plot.plot_library_size(ipf_counts)"
   ]
  },
  {
   "cell_type": "markdown",
   "id": "a92b44d2-3f0d-4b18-83d4-ce2a7c25371a",
   "metadata": {},
   "source": [
    "# Preprocessing: Filtering, Normalizing, and Transforming"
   ]
  },
  {
   "cell_type": "markdown",
   "id": "7dec875c-415a-4715-bdeb-4e6d4219eebb",
   "metadata": {},
   "source": [
    "## Filtering"
   ]
  },
  {
   "cell_type": "code",
   "execution_count": null,
   "id": "c039ae3e-a491-4476-983d-24e0df1b6658",
   "metadata": {},
   "outputs": [],
   "source": [
    "ipf_counts = scprep.filter.filter_rare_genes(ipf_counts, min_cells=6)\n",
    "ipf_counts.shape"
   ]
  },
  {
   "cell_type": "markdown",
   "id": "7558c0c0-a4cd-433c-9efb-b550c978e911",
   "metadata": {},
   "source": [
    "## Normalization"
   ]
  },
  {
   "cell_type": "code",
   "execution_count": null,
   "id": "ce9d7054-ce86-487c-af31-9a603b71f56a",
   "metadata": {},
   "outputs": [],
   "source": [
    "ipf_counts = scprep.normalize.library_size_normalize(ipf_counts)\n",
    "ipf_counts.head(2)"
   ]
  },
  {
   "cell_type": "markdown",
   "id": "882b1d01-44bc-4cdd-b41b-bc0472828ab0",
   "metadata": {},
   "source": [
    "## Transformation"
   ]
  },
  {
   "cell_type": "code",
   "execution_count": null,
   "id": "f46aeac5-5418-426c-ac25-0b6ef2710f38",
   "metadata": {},
   "outputs": [],
   "source": [
    "ipf_counts = scprep.transform.sqrt(ipf_counts)"
   ]
  },
  {
   "cell_type": "markdown",
   "id": "eb580153-4d39-495d-a3ff-436eb2af5fea",
   "metadata": {},
   "source": [
    "# PHATE"
   ]
  },
  {
   "cell_type": "code",
   "execution_count": null,
   "id": "74c2a50c-a475-4979-990f-1d44287f8be5",
   "metadata": {},
   "outputs": [],
   "source": [
    "phate_operator = phate.PHATE(n_jobs=-2, random_state=13)\n",
    "Y_phate = phate_operator.fit_transform(ipf_counts)"
   ]
  },
  {
   "cell_type": "code",
   "execution_count": null,
   "id": "f48ee2bb-1240-4d34-af4d-2b326612ee73",
   "metadata": {},
   "outputs": [],
   "source": [
    "scprep.plot.scatter2d(Y_phate, ticks=None, label_prefix=\"PHATE\", figsize=(5,5),\n",
    "                      filename=\"at2_phate_clustering.pdf\", dpi=300)"
   ]
  },
  {
   "cell_type": "markdown",
   "id": "e76f94b1-2ae6-4884-b775-796371619306",
   "metadata": {},
   "source": [
    "# Plotting"
   ]
  },
  {
   "cell_type": "markdown",
   "id": "8ba752fe-ac0b-4523-979e-4a877b2ce6eb",
   "metadata": {},
   "source": [
    "## Angiotensin II receptor 2 (AGTR2)"
   ]
  },
  {
   "cell_type": "code",
   "execution_count": null,
   "id": "979bc3cf-2026-4add-a455-eed14f6bf776",
   "metadata": {},
   "outputs": [],
   "source": [
    "# Plotting mitochondrial expression\n",
    "fig, ax = plt.subplots(1, figsize=(4,4))\n",
    "scprep.plot.scatter2d(Y_phate, ax=ax, c=ipf_counts['AGTR2'],\n",
    "                      title='AGTR2', ticks=False, label_prefix='PHATE',\n",
    "                      filename=\"at2_phate_clustering.AGTR1.pdf\", dpi=300)\n",
    "fig.tight_layout()"
   ]
  },
  {
   "cell_type": "markdown",
   "id": "09cbb5b1-dd44-4604-918c-e199d8443ee1",
   "metadata": {},
   "source": [
    "## KDE plot of pericytes"
   ]
  },
  {
   "cell_type": "code",
   "execution_count": null,
   "id": "1de0fa7c-faf5-49f7-a09d-03eb92d5ef57",
   "metadata": {},
   "outputs": [],
   "source": [
    "fig, ax = plt.subplots(1, figsize=(4,4))\n",
    "kde_plot = sns.kdeplot(x=Y_phate[:, 0], y=Y_phate[:, 1], fill=True, ax=ax, zorder=0, \n",
    "                       n_levels=100, cmap=\"inferno\")\n",
    "\n",
    "ax.set_xticks([]); ax.set_yticks([])\n",
    "ax.set_xlabel('PHATE 1', fontsize=18); ax.set_ylabel('PHATE 2', fontsize=18)\n",
    "ax.set_title('KDE - AT2', fontsize=20)\n",
    "fig.tight_layout()\n",
    "\n",
    "fig = kde_plot.get_figure()\n",
    "fig.savefig(\"at2_phate_kde.pdf\") "
   ]
  },
  {
   "cell_type": "markdown",
   "id": "61f86ce5-f902-4122-b6d4-c63a16653981",
   "metadata": {},
   "source": [
    "## Clustering data using PHATE"
   ]
  },
  {
   "cell_type": "code",
   "execution_count": null,
   "id": "cd5e26a7-b973-42d4-87dd-5638447891e7",
   "metadata": {},
   "outputs": [],
   "source": [
    "clusters = phate.cluster.kmeans(phate_operator, k=2)\n",
    "\n",
    "scprep.plot.scatter2d(Y_phate, c=clusters, s=1,figsize=(4.3,4), ticks=None, label_prefix='PHATE',\n",
    "                      legend_anchor=(1,1), fontsize=12, title='PHATE clusters',\n",
    "                      filename=\"at2_phate_clustering.kmeans.pdf\", dpi=300)\n",
    "\n",
    "fig.tight_layout()"
   ]
  },
  {
   "cell_type": "markdown",
   "id": "825bea2a-bc9b-4f96-93f9-e7726765d8d1",
   "metadata": {},
   "source": [
    "# Comparison of PHATE clusters and AGTR2 expressoin"
   ]
  },
  {
   "cell_type": "markdown",
   "id": "72aa2338-dfe4-44b7-8b93-38659d4b5df1",
   "metadata": {},
   "source": [
    "## Subset data"
   ]
  },
  {
   "cell_type": "code",
   "execution_count": null,
   "id": "8159d4ae-d3d9-4f2d-bcf9-7a7f15c47aeb",
   "metadata": {},
   "outputs": [],
   "source": [
    "gene_list = []\n",
    "for item in ipf_counts.columns:\n",
    "    gene_list.append(str(item).replace(\"('\", \"\").replace(\"',)\", \"\"))\n",
    "\n",
    "new_adata = new_adata[ipf_counts.index, new_adata.var.index.isin(gene_list)]\n",
    "new_adata.obsm[\"X_phate\"] = Y_phate\n",
    "new_adata.obs[\"phate_clusters\"] = [\"Group_\"+str(clu) for clu in clusters]\n",
    "new_adata"
   ]
  },
  {
   "cell_type": "markdown",
   "id": "71e74510-4a25-4f6b-88ce-6d4f1640ebc5",
   "metadata": {},
   "source": [
    "## Qualitative review"
   ]
  },
  {
   "cell_type": "code",
   "execution_count": null,
   "id": "1eaa8b3d-6d4f-4683-9c28-de6740a03083",
   "metadata": {},
   "outputs": [],
   "source": [
    "ipf_counts.loc[:, \"PHATE\"] = clusters\n",
    "ipf_counts.loc[:, \"patient\"] = new_adata.obs[\"patient\"]\n",
    "ipf_counts.loc[:, \"disease\"] = new_adata.obs[\"disease\"]\n",
    "df = pl.from_pandas(ipf_counts.loc[:, [\"AGTR2\", \"PHATE\", \"patient\", \"disease\"]])\\\n",
    "       .rename({\"('AGTR2',)\": \"AGTR2\", \"('PHATE',)\": \"PHATE\", \n",
    "                \"('patient',)\": \"patient\", \"('disease',)\": \"disease\"})\n",
    "df.head()"
   ]
  },
  {
   "cell_type": "code",
   "execution_count": null,
   "id": "bee1189b-b0ae-44f8-b666-3550271a24e6",
   "metadata": {},
   "outputs": [],
   "source": [
    "df.write_csv(\"at2_phate.normalized_expression.tsv\", separator=\"\\t\")"
   ]
  },
  {
   "cell_type": "code",
   "execution_count": null,
   "id": "5ead8bd8-3239-4775-a343-c5cee068cb98",
   "metadata": {},
   "outputs": [],
   "source": [
    "df.filter(pl.col(\"AGTR2\") > 0)\\\n",
    "  .group_by([\"PHATE\", \"patient\", \"disease\"])\\\n",
    "  .agg([pl.sum(\"AGTR2\").name.suffix(\"_sum\"), \n",
    "        pl.mean(\"AGTR2\").name.suffix(\"_mean\"),\n",
    "        pl.count(\"AGTR2\").name.suffix(\"_count\"),\n",
    "        pl.std(\"AGTR2\").name.suffix(\"_std\")])\\\n",
    "  .sort(\"PHATE\")"
   ]
  },
  {
   "cell_type": "code",
   "execution_count": null,
   "id": "a4b6a8ec-c410-423c-a9ca-67bbec047e81",
   "metadata": {},
   "outputs": [],
   "source": [
    "df.filter(pl.col(\"AGTR2\") > 0)\\\n",
    "  .group_by([\"PHATE\", \"disease\"])\\\n",
    "  .agg([pl.sum(\"AGTR2\").name.suffix(\"_sum\"), \n",
    "        pl.mean(\"AGTR2\").name.suffix(\"_mean\"),\n",
    "        pl.count(\"AGTR2\").name.suffix(\"_count\"),\n",
    "        pl.std(\"AGTR2\").name.suffix(\"_std\")])\\\n",
    "  .sort(\"PHATE\")"
   ]
  },
  {
   "cell_type": "code",
   "execution_count": null,
   "id": "be6620e4-8578-4d5d-9e69-69d70ccfcc6e",
   "metadata": {},
   "outputs": [],
   "source": [
    "dx = df.filter(pl.col(\"PHATE\") == 1, pl.col(\"AGTR2\") > 0).group_by([\"patient\", \"disease\"]).agg(pl.mean(\"AGTR2\"))\n",
    "dx.head(2)"
   ]
  },
  {
   "cell_type": "code",
   "execution_count": null,
   "id": "9a62416c-593e-481c-adab-5a095dcfe5f6",
   "metadata": {},
   "outputs": [],
   "source": [
    "ax = sns.boxplot(data=dx, x=\"disease\", y=\"AGTR2\", fill=False, width=0.5)\n",
    "box_plot = sns.stripplot(data=dx, x=\"disease\", y=\"AGTR2\", ax=ax)\n",
    "ax.set_xlabel('Disease', fontsize=12); \n",
    "ax.set_ylabel('Normalized Expression (AGTR2)', fontsize=12)\n",
    "fig.tight_layout()\n",
    "fig = box_plot.get_figure()\n",
    "fig.savefig(\"at2_phate.PHATE_cluster_1.boxplot_AGTR2.pdf\") "
   ]
  },
  {
   "cell_type": "markdown",
   "id": "cc582cfe-36fc-4394-8d1b-72d9da00736b",
   "metadata": {},
   "source": [
    "## Statistical comparison"
   ]
  },
  {
   "cell_type": "markdown",
   "id": "ff05ab6f-99a1-4af0-ba6d-fd9cd9abb944",
   "metadata": {},
   "source": [
    "### One-way ANOVA"
   ]
  },
  {
   "cell_type": "code",
   "execution_count": null,
   "id": "fc9e6626-f3a0-4681-868a-7ba1ae8537bf",
   "metadata": {},
   "outputs": [],
   "source": [
    "c0 = dx.filter(pl.col(\"disease\") == \"Control\").to_pandas().AGTR2.values\n",
    "c1 = dx.filter(pl.col(\"disease\") == \"COPD\").to_pandas().AGTR2.values\n",
    "c2 = dx.filter(pl.col(\"disease\") == \"IPF\").to_pandas().AGTR2.values\n",
    "\n",
    "f_oneway(c0, c1, c2)"
   ]
  },
  {
   "cell_type": "markdown",
   "id": "e3dd22b6-51a2-4c60-99c0-3454c9a22894",
   "metadata": {},
   "source": [
    "### TukeyHSD"
   ]
  },
  {
   "cell_type": "code",
   "execution_count": null,
   "id": "b1e5a653-64b0-4350-83e4-9d420eb38a47",
   "metadata": {},
   "outputs": [],
   "source": [
    "model = MultiComparison(dx.to_pandas().AGTR2, dx.to_pandas().disease)\n",
    "res_mod = model.tukeyhsd()\n",
    "print(res_mod)"
   ]
  },
  {
   "cell_type": "markdown",
   "id": "10524290-d46c-4dfc-a70f-703096f33e8c",
   "metadata": {},
   "source": [
    "### T-test (two-sided)"
   ]
  },
  {
   "cell_type": "code",
   "execution_count": null,
   "id": "b3d3ba16-7d9a-4cd0-9d32-3017c461e2a0",
   "metadata": {},
   "outputs": [],
   "source": [
    "ttest_ind(c0, c1) # Control VS COPD"
   ]
  },
  {
   "cell_type": "code",
   "execution_count": null,
   "id": "6a6519c6-220e-4391-9f15-93a8e39b0b29",
   "metadata": {},
   "outputs": [],
   "source": [
    "ttest_ind(c0, c2) # Control VS IPF"
   ]
  },
  {
   "cell_type": "code",
   "execution_count": null,
   "id": "71c2b29f-b43d-4d7e-98c2-929260644aec",
   "metadata": {},
   "outputs": [],
   "source": [
    "ttest_ind(c1, c2) # COPD VS IPF"
   ]
  },
  {
   "cell_type": "markdown",
   "id": "ff1fd139-e16a-4861-a253-410a6b81dcab",
   "metadata": {},
   "source": [
    "### Mann-Whitney U"
   ]
  },
  {
   "cell_type": "markdown",
   "id": "10e4b431-e2f8-42d3-bfa8-ec97176510b8",
   "metadata": {},
   "source": [
    "#### Two-sided test"
   ]
  },
  {
   "cell_type": "code",
   "execution_count": null,
   "id": "ad3b2866-dabc-41bc-870f-783cd253fa5e",
   "metadata": {},
   "outputs": [],
   "source": [
    "mannwhitneyu(c0, c1) # Control VS COPD"
   ]
  },
  {
   "cell_type": "code",
   "execution_count": null,
   "id": "78b6d626-7cb2-43a0-b3e7-5779b00724d0",
   "metadata": {},
   "outputs": [],
   "source": [
    "mannwhitneyu(c0, c2) # Control VS IPF"
   ]
  },
  {
   "cell_type": "code",
   "execution_count": null,
   "id": "fad20ffa-439a-42ae-835d-ff0a2185092c",
   "metadata": {},
   "outputs": [],
   "source": [
    "mannwhitneyu(c1, c2) # COPD VS IPF"
   ]
  },
  {
   "cell_type": "markdown",
   "id": "11d6c7df-b641-40b3-ad7d-5338db520a41",
   "metadata": {},
   "source": [
    "#### One-sided test"
   ]
  },
  {
   "cell_type": "code",
   "execution_count": null,
   "id": "ceaf743c-9635-44b9-a341-d06d4c5d75dc",
   "metadata": {},
   "outputs": [],
   "source": [
    "mannwhitneyu(c0, c1, alternative=\"less\") # Control VS COPD"
   ]
  },
  {
   "cell_type": "code",
   "execution_count": null,
   "id": "56a0480b-91fd-4979-a70a-ecde502aa27f",
   "metadata": {},
   "outputs": [],
   "source": [
    "mannwhitneyu(c0, c2, alternative=\"less\") # Control VS IPF"
   ]
  },
  {
   "cell_type": "code",
   "execution_count": null,
   "id": "d691a877-14ae-49d8-a02e-9cf68673bf04",
   "metadata": {},
   "outputs": [],
   "source": [
    "mannwhitneyu(c1, c2, alternative=\"greater\") # COPD VS IPF"
   ]
  },
  {
   "cell_type": "markdown",
   "id": "d83a6aec-0761-43bb-a44c-0d3d70bb3e13",
   "metadata": {},
   "source": [
    "# Session information"
   ]
  },
  {
   "cell_type": "code",
   "execution_count": null,
   "id": "5f0f67b8-80dc-4a52-8613-fd7ace999b45",
   "metadata": {},
   "outputs": [],
   "source": [
    "session_info.show()"
   ]
  }
 ],
 "metadata": {
  "kernelspec": {
   "display_name": "Python 3 (ipykernel)",
   "language": "python",
   "name": "python3"
  },
  "language_info": {
   "codemirror_mode": {
    "name": "ipython",
    "version": 3
   },
   "file_extension": ".py",
   "mimetype": "text/x-python",
   "name": "python",
   "nbconvert_exporter": "python",
   "pygments_lexer": "ipython3",
   "version": "3.11.8"
  }
 },
 "nbformat": 4,
 "nbformat_minor": 5
}
