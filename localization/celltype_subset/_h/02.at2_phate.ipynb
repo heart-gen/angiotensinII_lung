{
 "cells": [
  {
   "cell_type": "raw",
   "id": "1a55a536-77f2-41ea-a7ad-acae4770081a",
   "metadata": {},
   "source": [
    "---\n",
    "title: \"Dimensional reduction with PHATE: AT2\"\n",
    "author: \"Kynon J Benjamin\"\n",
    "date: \"3/30/2024\"\n",
    "execute: \n",
    "  enable: true\n",
    "format: \n",
    "  ipynb:\n",
    "    number-sections: true\n",
    "    output-file: at2_phate.ipynb\n",
    "  html:\n",
    "    toc: true\n",
    "    toc-depth: 3\n",
    "    toc-location: right-body\n",
    "    number-sections: true\n",
    "    theme: darkly\n",
    "    code-fold: false\n",
    "    output-file: at2_phate.html\n",
    "jupyter: python3\n",
    "---"
   ]
  },
  {
   "cell_type": "markdown",
   "id": "cad4e4fd-d291-42fd-bc8e-16228ada77fc",
   "metadata": {},
   "source": [
    "# Import libraries"
   ]
  },
  {
   "cell_type": "code",
   "execution_count": null,
   "id": "cf61d7e0-a0b3-4ef2-9721-139bc5724e87",
   "metadata": {},
   "outputs": [],
   "source": [
    "import numpy as np\n",
    "import scanpy as sc\n",
    "import pandas as pd\n",
    "import polars as pl\n",
    "import seaborn as sns\n",
    "import matplotlib.pyplot as plt\n",
    "from scipy.stats import f_oneway\n",
    "import phate, scprep, session_info\n",
    "from statsmodels.stats.multicomp import MultiComparison"
   ]
  },
  {
   "cell_type": "code",
   "execution_count": null,
   "id": "c69f6b63-ca18-4a9b-bc20-23ce9f242d26",
   "metadata": {},
   "outputs": [],
   "source": [
    "%matplotlib inline"
   ]
  },
  {
   "cell_type": "markdown",
   "id": "ae0a08e9-cb0f-4352-aadd-e44757e8ea16",
   "metadata": {},
   "source": [
    "# Load data"
   ]
  },
  {
   "cell_type": "code",
   "execution_count": null,
   "id": "38a53dd0-58e1-4056-a980-4d951272495b",
   "metadata": {},
   "outputs": [],
   "source": [
    "adata = sc.read_h5ad(\"../_m/at2.hlca_core.dataset.h5ad\")\n",
    "adata"
   ]
  },
  {
   "cell_type": "code",
   "execution_count": null,
   "id": "5ec3863c-694d-4390-aa17-679e8b212699",
   "metadata": {},
   "outputs": [],
   "source": [
    "hlca_counts = pd.DataFrame(adata.X.toarray(), \n",
    "                           columns=[adata.var.feature_name],\n",
    "                           index=adata.obs.index)\n",
    "print(hlca_counts.shape)\n",
    "hlca_counts.head(2)"
   ]
  },
  {
   "cell_type": "code",
   "execution_count": null,
   "id": "56ab57f2-1b20-4d54-bd26-b8ffce507d2d",
   "metadata": {},
   "outputs": [],
   "source": [
    "scprep.plot.plot_library_size(hlca_counts)"
   ]
  },
  {
   "cell_type": "markdown",
   "id": "a92b44d2-3f0d-4b18-83d4-ce2a7c25371a",
   "metadata": {},
   "source": [
    "# Preprocessing: Filtering, Normalizing, and Transforming"
   ]
  },
  {
   "cell_type": "markdown",
   "id": "7dec875c-415a-4715-bdeb-4e6d4219eebb",
   "metadata": {},
   "source": [
    "## Filtering"
   ]
  },
  {
   "cell_type": "markdown",
   "id": "51cc26c9-63d5-48ea-babf-ce1c97326ccb",
   "metadata": {},
   "source": [
    "This data, however, has already had very extensive filtering and QC. Based on the core model, there are no high mitochondria percentages and few outliers. So, we will skip the outlier\n",
    "step as this eliminates very few cells (< 1%)."
   ]
  },
  {
   "cell_type": "code",
   "execution_count": null,
   "id": "c039ae3e-a491-4476-983d-24e0df1b6658",
   "metadata": {},
   "outputs": [],
   "source": [
    "hlca_counts = scprep.filter.filter_rare_genes(hlca_counts, cutoff=0, min_cells=6)\n",
    "hlca_counts.shape"
   ]
  },
  {
   "cell_type": "markdown",
   "id": "7558c0c0-a4cd-433c-9efb-b550c978e911",
   "metadata": {},
   "source": [
    "## Normalization"
   ]
  },
  {
   "cell_type": "code",
   "execution_count": null,
   "id": "ce9d7054-ce86-487c-af31-9a603b71f56a",
   "metadata": {},
   "outputs": [],
   "source": [
    "hlca_counts = scprep.normalize.library_size_normalize(hlca_counts)\n",
    "hlca_counts.head(2)"
   ]
  },
  {
   "cell_type": "markdown",
   "id": "882b1d01-44bc-4cdd-b41b-bc0472828ab0",
   "metadata": {},
   "source": [
    "## Transformation"
   ]
  },
  {
   "cell_type": "code",
   "execution_count": null,
   "id": "f46aeac5-5418-426c-ac25-0b6ef2710f38",
   "metadata": {},
   "outputs": [],
   "source": [
    "hlca_counts = scprep.transform.sqrt(hlca_counts)"
   ]
  },
  {
   "cell_type": "markdown",
   "id": "eb580153-4d39-495d-a3ff-436eb2af5fea",
   "metadata": {},
   "source": [
    "# PHATE"
   ]
  },
  {
   "cell_type": "code",
   "execution_count": null,
   "id": "74c2a50c-a475-4979-990f-1d44287f8be5",
   "metadata": {},
   "outputs": [
    {
     "name": "stdout",
     "output_type": "stream",
     "text": [
      "    Calculated affinities in 0.21 seconds.\n"
     ]
    },
    {
     "name": "stdout",
     "output_type": "stream",
     "text": [
      "  Calculated graph and diffusion operator in 7.17 seconds.\n"
     ]
    },
    {
     "name": "stdout",
     "output_type": "stream",
     "text": [
      "  Calculating optimal t...\n"
     ]
    },
    {
     "name": "stdout",
     "output_type": "stream",
     "text": [
      "    Automatically selected t = 15\n"
     ]
    },
    {
     "name": "stdout",
     "output_type": "stream",
     "text": [
      "  Calculated optimal t in 1.54 seconds.\n"
     ]
    },
    {
     "name": "stdout",
     "output_type": "stream",
     "text": [
      "  Calculating diffusion potential...\n"
     ]
    },
    {
     "name": "stdout",
     "output_type": "stream",
     "text": [
      "  Calculated diffusion potential in 0.66 seconds.\n"
     ]
    },
    {
     "name": "stdout",
     "output_type": "stream",
     "text": [
      "  Calculating metric MDS...\n"
     ]
    },
    {
     "name": "stdout",
     "output_type": "stream",
     "text": [
      "  Calculated metric MDS in 3.11 seconds.\n"
     ]
    },
    {
     "name": "stdout",
     "output_type": "stream",
     "text": [
      "Calculated PHATE in 12.49 seconds.\n"
     ]
    }
   ],
   "source": [
    "phate_operator = phate.PHATE(n_jobs=-2)\n",
    "Y_phate = phate_operator.fit_transform(hlca_counts)"
   ]
  },
  {
   "cell_type": "code",
   "execution_count": null,
   "id": "f48ee2bb-1240-4d34-af4d-2b326612ee73",
   "metadata": {},
   "outputs": [],
   "source": [
    "scprep.plot.scatter2d(Y_phate, ticks=None, label_prefix=\"PHATE\", figsize=(5,5),\n",
    "                      filename=\"at2_phate_clustering.pdf\", dpi=300)"
   ]
  },
  {
   "cell_type": "markdown",
   "id": "e76f94b1-2ae6-4884-b775-796371619306",
   "metadata": {},
   "source": [
    "# Plotting"
   ]
  },
  {
   "cell_type": "markdown",
   "id": "8ba752fe-ac0b-4523-979e-4a877b2ce6eb",
   "metadata": {},
   "source": [
    "## Angiotensin II receptor 1 (AGTR2)"
   ]
  },
  {
   "cell_type": "code",
   "execution_count": null,
   "id": "979bc3cf-2026-4add-a455-eed14f6bf776",
   "metadata": {},
   "outputs": [],
   "source": [
    "# Plotting mitochondrial expression\n",
    "fig, ax = plt.subplots(1, figsize=(4,4))\n",
    "scprep.plot.scatter2d(Y_phate, ax=ax, c=hlca_counts['AGTR2'],\n",
    "                      title='AGTR2', ticks=False, label_prefix='PHATE',\n",
    "                      filename=\"at2_phate_clustering.AGTR2.pdf\", dpi=300)\n",
    "fig.tight_layout()"
   ]
  },
  {
   "cell_type": "markdown",
   "id": "09cbb5b1-dd44-4604-918c-e199d8443ee1",
   "metadata": {},
   "source": [
    "## KDE plot of AT2"
   ]
  },
  {
   "cell_type": "code",
   "execution_count": null,
   "id": "1de0fa7c-faf5-49f7-a09d-03eb92d5ef57",
   "metadata": {},
   "outputs": [],
   "source": [
    "fig, ax = plt.subplots(1, figsize=(4,4))\n",
    "kde_plot = sns.kdeplot(x=Y_phate[:, 0], y=Y_phate[:, 1], fill=True, ax=ax, zorder=0, \n",
    "                       n_levels=100, cmap=\"inferno\")\n",
    "\n",
    "ax.set_xticks([]); ax.set_yticks([])\n",
    "ax.set_xlabel('PHATE 1', fontsize=18); ax.set_ylabel('PHATE 2', fontsize=18)\n",
    "ax.set_title('KDE - AT2', fontsize=20)\n",
    "fig.tight_layout()\n",
    "\n",
    "fig = kde_plot.get_figure()\n",
    "fig.savefig(\"at2_phate_kde.pdf\") "
   ]
  },
  {
   "cell_type": "markdown",
   "id": "61f86ce5-f902-4122-b6d4-c63a16653981",
   "metadata": {},
   "source": [
    "## Clustering data using PHATE"
   ]
  },
  {
   "cell_type": "code",
   "execution_count": null,
   "id": "cd5e26a7-b973-42d4-87dd-5638447891e7",
   "metadata": {},
   "outputs": [],
   "source": [
    "clusters = phate.cluster.kmeans(phate_operator, n_clusters=6)\n",
    "\n",
    "scprep.plot.scatter2d(Y_phate, c=clusters, s=1,figsize=(4.3,4), ticks=None, label_prefix='PHATE',\n",
    "                      legend_anchor=(1,1), fontsize=12, title='PHATE clusters',\n",
    "                      filename=\"at2_phate_clustering.kmeans.pdf\", dpi=300)\n",
    "\n",
    "fig.tight_layout()"
   ]
  },
  {
   "cell_type": "markdown",
   "id": "825bea2a-bc9b-4f96-93f9-e7726765d8d1",
   "metadata": {},
   "source": [
    "# Comparison of PHATE clusters and AGTR2 expressoin"
   ]
  },
  {
   "cell_type": "markdown",
   "id": "48f6086a-e73b-4583-9a0d-8265e8e86485",
   "metadata": {},
   "source": [
    "## Subset data"
   ]
  },
  {
   "cell_type": "code",
   "execution_count": null,
   "id": "371010f4-8bb4-4863-a093-704c8c90fe31",
   "metadata": {},
   "outputs": [],
   "source": [
    "gene_list = []\n",
    "for item in hlca_counts.columns:\n",
    "    gene_list.append(str(item).replace(\"('\", \"\").replace(\"',)\", \"\"))\n",
    "\n",
    "adata = adata[hlca_counts.index, adata.var.feature_name.isin(gene_list)]\n",
    "adata.obsm[\"X_phate\"] = Y_phate\n",
    "adata.obs[\"phate_clusters\"] = [\"Group_\"+str(clu) for clu in clusters]\n",
    "adata"
   ]
  },
  {
   "cell_type": "markdown",
   "id": "71e74510-4a25-4f6b-88ce-6d4f1640ebc5",
   "metadata": {},
   "source": [
    "## Qualitative review"
   ]
  },
  {
   "cell_type": "code",
   "execution_count": null,
   "id": "634218be-89c8-44d8-b5a8-ee4e4ab23607",
   "metadata": {},
   "outputs": [],
   "source": [
    "hlca_counts.loc[:, \"PHATE\"] = clusters\n",
    "hlca_counts.loc[:, \"patient\"] = adata.obs[\"donor_id\"]\n",
    "df = pl.from_pandas(hlca_counts.loc[:, [\"AGTR2\", \"PHATE\", \"patient\"]])\\\n",
    "       .rename({\"('AGTR2',)\": \"AGTR2\", \"('PHATE',)\": \"PHATE\", \n",
    "                \"('patient',)\": \"patient\"})\n",
    "\n",
    "df.group_by(\"PHATE\").agg([pl.sum(\"AGTR2\").name.suffix(\"_sum\"), \n",
    "                          pl.mean(\"AGTR2\").name.suffix(\"_mean\"),\n",
    "                          pl.count(\"AGTR2\").name.suffix(\"_count\"),\n",
    "                          pl.std(\"AGTR2\").name.suffix(\"_std\")])\\\n",
    "  .sort(\"PHATE\")"
   ]
  },
  {
   "cell_type": "code",
   "execution_count": null,
   "id": "8d40976d-5974-4ae4-a7b3-d60781ff701e",
   "metadata": {},
   "outputs": [],
   "source": [
    "dx = df.group_by([\"PHATE\", \"patient\"]).agg(pl.mean(\"AGTR2\"))\n",
    "ax = sns.boxplot(data=dx, x=\"PHATE\", y=\"AGTR2\", fill=False, width=0.5)\n",
    "box_plot = sns.stripplot(data=dx, x=\"PHATE\", y=\"AGTR2\", ax=ax)\n",
    "ax.set_xlabel('PHATE Clusters', fontsize=12); \n",
    "ax.set_ylabel('Normalized Expression (AGTR2)', fontsize=12)\n",
    "fig.tight_layout()\n",
    "\n",
    "fig = box_plot.get_figure()\n",
    "fig.savefig(\"at2_phate.boxplot_AGTR2.pdf\") "
   ]
  },
  {
   "cell_type": "markdown",
   "id": "cc582cfe-36fc-4394-8d1b-72d9da00736b",
   "metadata": {},
   "source": [
    "## Statistical comparison"
   ]
  },
  {
   "cell_type": "code",
   "execution_count": null,
   "id": "612dd4a9-9e57-440b-a92f-391980d7f734",
   "metadata": {},
   "outputs": [],
   "source": [
    "c0 = dx.filter(pl.col(\"PHATE\") == 0).to_pandas().AGTR2.values\n",
    "c1 = dx.filter(pl.col(\"PHATE\") == 1).to_pandas().AGTR2.values\n",
    "c2 = dx.filter(pl.col(\"PHATE\") == 2).to_pandas().AGTR2.values\n",
    "c3 = dx.filter(pl.col(\"PHATE\") == 3).to_pandas().AGTR2.values\n",
    "c4 = dx.filter(pl.col(\"PHATE\") == 4).to_pandas().AGTR2.values\n",
    "c5 = dx.filter(pl.col(\"PHATE\") == 5).to_pandas().AGTR2.values\n",
    "\n",
    "f_oneway(c0, c1, c2, c3, c4, c5)"
   ]
  },
  {
   "cell_type": "code",
   "execution_count": null,
   "id": "b1e5a653-64b0-4350-83e4-9d420eb38a47",
   "metadata": {},
   "outputs": [],
   "source": [
    "model = MultiComparison(hlca_counts.loc[:, \"AGTR2\"], hlca_counts.loc[:, \"PHATE\"])\n",
    "res_mod = model.tukeyhsd()\n",
    "print(res_mod)"
   ]
  },
  {
   "cell_type": "code",
   "execution_count": null,
   "id": "1ed2880c-3635-4862-aebc-c278277665bd",
   "metadata": {},
   "outputs": [],
   "source": [
    "pd.DataFrame(data=res_mod._results_table.data[1:], \n",
    "             columns=res_mod._results_table.data[0])\\\n",
    "  .to_csv(\"at2_phate_clustering.tukeyhsd.tsv\", \n",
    "           sep=\"\\t\", index=False)"
   ]
  },
  {
   "cell_type": "markdown",
   "id": "c93c88cf-7be0-4174-b680-6337e3a541d0",
   "metadata": {},
   "source": [
    "## Choose a root cell for diffusion pseudotime"
   ]
  },
  {
   "cell_type": "code",
   "execution_count": null,
   "id": "b4fbea6b-073a-4c93-8efb-cb40ae4057a1",
   "metadata": {},
   "outputs": [],
   "source": [
    "adata.uns[\"iroot\"] = np.flatnonzero(adata.obs[\"leiden\"] == '11')[0]"
   ]
  },
  {
   "cell_type": "markdown",
   "id": "1c9cfd10-9e4d-43ff-8d0d-48866fff2fd9",
   "metadata": {},
   "source": [
    "## Compute diffusion pseudotime"
   ]
  },
  {
   "cell_type": "code",
   "execution_count": null,
   "id": "64e3b816-d429-4a9a-878f-7dabaf06acce",
   "metadata": {},
   "outputs": [],
   "source": [
    "sc.tl.dpt(adata)\n",
    "sc.pl.draw_graph(adata, color=[\"phate_clusters\", \"ENSG00000180772\", \"dpt_pseudotime\"], \n",
    "                 legend_loc=\"on data\", save=\".at2_phate.diff_pseudotime.pdf\")"
   ]
  },
  {
   "cell_type": "markdown",
   "id": "d83a6aec-0761-43bb-a44c-0d3d70bb3e13",
   "metadata": {},
   "source": [
    "# Session information"
   ]
  },
  {
   "cell_type": "code",
   "execution_count": null,
   "id": "5f0f67b8-80dc-4a52-8613-fd7ace999b45",
   "metadata": {},
   "outputs": [],
   "source": [
    "session_info.show()"
   ]
  }
 ],
 "metadata": {
  "kernelspec": {
   "display_name": "Python 3 (ipykernel)",
   "language": "python",
   "name": "python3"
  },
  "language_info": {
   "codemirror_mode": {
    "name": "ipython",
    "version": 3
   },
   "file_extension": ".py",
   "mimetype": "text/x-python",
   "name": "python",
   "nbconvert_exporter": "python",
   "pygments_lexer": "ipython3",
   "version": "3.9.16"
  }
 },
 "nbformat": 4,
 "nbformat_minor": 5
}
