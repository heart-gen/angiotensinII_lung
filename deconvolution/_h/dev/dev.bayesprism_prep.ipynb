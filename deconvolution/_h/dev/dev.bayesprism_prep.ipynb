{
 "cells": [
  {
   "cell_type": "raw",
   "id": "d7463144-b99d-4ea4-a75d-4cd8e7fd953d",
   "metadata": {},
   "source": [
    "---\n",
    "title: \"Preparing data for BayesPrism: Deconvolution\"\n",
    "author: \"Kynon J Benjamin\"\n",
    "date: \"4/08/2024\"\n",
    "execute: \n",
    "  enable: true\n",
    "format: \n",
    "  ipynb:\n",
    "    number-sections: true\n",
    "    output-file: prepare_bayesprism.ipynb\n",
    "  html:\n",
    "    toc: true\n",
    "    toc-depth: 3\n",
    "    toc-location: right-body\n",
    "    number-sections: true\n",
    "    theme: darkly\n",
    "    code-fold: false\n",
    "    output-file: prepare_bayesprism.html\n",
    "---"
   ]
  },
  {
   "cell_type": "markdown",
   "id": "389eaf8b-47fe-433f-837d-7370eee45afc",
   "metadata": {},
   "source": [
    "# Load libraries"
   ]
  },
  {
   "cell_type": "code",
   "execution_count": null,
   "id": "c9161481-35e1-4f9a-8947-4a8610488c39",
   "metadata": {},
   "outputs": [],
   "source": [
    "suppressPackageStartupMessages({\n",
    "    library(dplyr)\n",
    "    library(Seurat)\n",
    "    library(BayesPrism)\n",
    "    library(SingleCellExperiment)\n",
    "})"
   ]
  },
  {
   "cell_type": "markdown",
   "id": "8a5fac9f-7bc5-4294-b6be-804334ddd924",
   "metadata": {},
   "source": [
    "# Load GTEx data"
   ]
  },
  {
   "cell_type": "code",
   "execution_count": null,
   "id": "42fd71fa-5d1e-4307-9269-d7a7b3fd10d4",
   "metadata": {},
   "outputs": [],
   "source": [
    "get_counts <- function(){\n",
    "    fn = here::here(\"inputs/gtex/_m/\",\n",
    "                    \"genes_gtex_v8_counts.txt.gz\")\n",
    "    return(data.table::fread(fn))\n",
    "}\n",
    "memCOUNTS <- memoise::memoise(get_counts)\n",
    "\n",
    "get_pheno <- function(){\n",
    "    fn = here::here(\"inputs/gtex/_m/gtex_v8_sample_data.tsv\")\n",
    "    return(data.table::fread(fn) |> filter(SMTS == \"Lung\"))\n",
    "}\n",
    "memPHENO <- memoise::memoise(get_pheno)\n",
    "\n",
    "select_lung_data <- function(){\n",
    "                                        # Clean data\n",
    "    counts <- tibble::column_to_rownames(memCOUNTS(), \"Name\") |>\n",
    "        select(any_of(memPHENO()$SAMPID))\n",
    "    genes  <- memCOUNTS() |> select(Name, Description)\n",
    "    pheno  <- memPHENO() |> filter(SAMPID %in% colnames(counts))\n",
    "                                        # Filter low expression\n",
    "    x <- edgeR::DGEList(counts=counts, genes=genes, samples=pheno)\n",
    "    keep.x <- edgeR::filterByExpr(x)\n",
    "    x <- x[keep.x, , keep.lib.sizes=FALSE]\n",
    "                                        # Update rownames\n",
    "    bulk_counts <- x$counts |> as.data.frame() |>\n",
    "        tibble::rownames_to_column(\"Name\") |>\n",
    "        inner_join(genes, by=\"Name\") |>\n",
    "        distinct(Description, .keep_all=TRUE) |>\n",
    "        tibble::column_to_rownames(\"Description\") |>\n",
    "        select(-Name)\n",
    "    return(bulk_counts)\n",
    "}\n",
    "memDF <- memoise::memoise(select_lung_data)"
   ]
  },
  {
   "cell_type": "code",
   "execution_count": null,
   "id": "9d6edd90-1d8e-4900-ad3d-b04c0955043a",
   "metadata": {},
   "outputs": [],
   "source": [
    "bk.dat <- t(memDF())\n",
    "dim(bk.dat)"
   ]
  },
  {
   "cell_type": "code",
   "execution_count": null,
   "id": "60f17299-517e-4312-aa78-5561d160ce10",
   "metadata": {},
   "outputs": [],
   "source": [
    "head(rownames(bk.dat))"
   ]
  },
  {
   "cell_type": "code",
   "execution_count": null,
   "id": "cd86bb24-fee1-4640-9bc7-0e2f23cfaef0",
   "metadata": {},
   "outputs": [],
   "source": [
    "colnames(bk.dat) |> head()"
   ]
  },
  {
   "cell_type": "markdown",
   "id": "91d2fb5a-53bd-4eb4-8bbc-35758a4e8b34",
   "metadata": {},
   "source": [
    "# Load single-cell reference"
   ]
  },
  {
   "cell_type": "markdown",
   "id": "78350ac7-cf65-4286-8b31-5ef5ef5a3552",
   "metadata": {},
   "source": [
    "## Load data"
   ]
  },
  {
   "cell_type": "code",
   "execution_count": null,
   "id": "1a5b43cc-7720-4324-a193-8ce13ac4a67f",
   "metadata": {},
   "outputs": [],
   "source": [
    "load(\"../_m/scRNA_HLCA_version2.RData\", verbose=TRUE)"
   ]
  },
  {
   "cell_type": "code",
   "execution_count": null,
   "id": "3d9689c0-f156-4ed6-8194-c4000429b8bc",
   "metadata": {},
   "outputs": [],
   "source": [
    "sce"
   ]
  },
  {
   "cell_type": "markdown",
   "id": "97ef5bde-6d19-472b-b297-c190194ddf6d",
   "metadata": {},
   "source": [
    "## Extract counts"
   ]
  },
  {
   "cell_type": "code",
   "execution_count": null,
   "id": "4c614a2a-3271-46b7-af60-05ea94ef8484",
   "metadata": {},
   "outputs": [],
   "source": [
    "rownames(sce) <- rowData(sce)[, \"feature_name\"]\n",
    "sc.dat        <- assays(sce)$counts |> t()\n",
    "dim(sc.dat)"
   ]
  },
  {
   "cell_type": "code",
   "execution_count": null,
   "id": "c76537e2-9dd9-45b4-9f88-54869894fc2d",
   "metadata": {},
   "outputs": [],
   "source": [
    "head(rownames(sc.dat))"
   ]
  },
  {
   "cell_type": "code",
   "execution_count": null,
   "id": "1831689f-e758-461f-81e9-2f239a1058fc",
   "metadata": {},
   "outputs": [],
   "source": [
    "colnames(sc.dat) |> head()"
   ]
  },
  {
   "cell_type": "markdown",
   "id": "df3eeaf6-b1b6-4e7b-9b50-b64ec08a3f87",
   "metadata": {},
   "source": [
    "## Extract cell type labels"
   ]
  },
  {
   "cell_type": "code",
   "execution_count": null,
   "id": "c17bb915-6323-46ec-89e4-3d45b04d9cbe",
   "metadata": {},
   "outputs": [],
   "source": [
    "nrow(sc.dat)"
   ]
  },
  {
   "cell_type": "code",
   "execution_count": null,
   "id": "fa3609ec-1773-4cee-9562-160dab68c986",
   "metadata": {},
   "outputs": [],
   "source": [
    "cell_types <- sce$cell_type\n",
    "sort(table(cell_types))"
   ]
  },
  {
   "cell_type": "markdown",
   "id": "f9501c88-20ae-48ff-a2ea-c506672249d4",
   "metadata": {},
   "source": [
    "# QC of cell types"
   ]
  },
  {
   "cell_type": "markdown",
   "id": "cca6a00d-9db8-4700-a601-c726259c9c18",
   "metadata": {},
   "source": [
    "Examine the pairwise correlation matrix between cell types. This will give us a sense of quality of specific cell types. The low-quality cell types will cluster together. Depending on this level of clustering, we may need to use a different level of granularity or remove some subclusters."
   ]
  },
  {
   "cell_type": "code",
   "execution_count": null,
   "id": "8ae7b7d2-0ec4-4123-8edb-4abec239efec",
   "metadata": {},
   "outputs": [],
   "source": [
    "plot.cor.phi(input=sc.dat,\n",
    "             input.labels=sce$compartment,\n",
    "             title=\"Cell type correlation\",\n",
    "             cexRow=0.5, cexCol=0.5)"
   ]
  },
  {
   "cell_type": "code",
   "execution_count": null,
   "id": "b2db0c0a-1846-4f32-a60c-773853ba2c4a",
   "metadata": {},
   "outputs": [],
   "source": [
    "plot.cor.phi(input=sc.dat,\n",
    "             input.labels=sce$ann_level_2,\n",
    "             title=\"Cell type correlation\",\n",
    "             cexRow=0.5, cexCol=0.5)"
   ]
  },
  {
   "cell_type": "code",
   "execution_count": null,
   "id": "a60d330d-1e34-4755-a76c-1170627d81ea",
   "metadata": {},
   "outputs": [],
   "source": [
    "plot.cor.phi(input=sc.dat,\n",
    "             input.labels=sce$ann_level_3,\n",
    "             title=\"Cell type correlation\",\n",
    "             cexRow=0.2, cexCol=0.2, \n",
    "             margins=c(2,2))"
   ]
  },
  {
   "cell_type": "code",
   "execution_count": null,
   "id": "a82acebf-2ca7-4447-87e8-b96751f5a042",
   "metadata": {},
   "outputs": [],
   "source": [
    "plot.cor.phi(input=sc.dat,\n",
    "             input.labels=sce$cell_type,\n",
    "             title=\"Cell type correlation\",\n",
    "             cexRow=0.1, cexCol=0.1, \n",
    "             margins=c(2,2))"
   ]
  },
  {
   "cell_type": "markdown",
   "id": "278e28ca-d773-40e7-bef1-da976d04c91a",
   "metadata": {},
   "source": [
    "## Collapse cell types"
   ]
  },
  {
   "cell_type": "code",
   "execution_count": null,
   "id": "29465052-c295-4e42-9aff-050c94545a4f",
   "metadata": {},
   "outputs": [],
   "source": [
    "sc.datX <- sc.dat[,colSums(sc.dat) >= 3]\n",
    "dim(sc.datX)"
   ]
  },
  {
   "cell_type": "code",
   "execution_count": null,
   "id": "afef5321-cd16-4f8b-8973-e4390d8832ed",
   "metadata": {},
   "outputs": [],
   "source": [
    "norm.to.one <- function(ref, pseudo.min){\n",
    "\tG <- ncol(ref)\n",
    "\tphi <- ref/rowSums(ref) * (1-pseudo.min*G) + pseudo.min\n",
    "\t#if the minimum value is greater than zero. simply normalize by total depth\n",
    "\tmin.value <- apply(ref,1,min)\n",
    "\twhich.row <- min.value>0\n",
    "\tif(any(which.row)){\n",
    "\t\tphi[which.row,] <- ref[which.row,,drop=F]/rowSums(ref[which.row,,drop=F])\n",
    "\t}\n",
    "\treturn(phi)\n",
    "}\n",
    "\n",
    "collapse <- function(ref, labels){\n",
    "\tstopifnot(nrow(ref) == length(labels))\n",
    "\tnon.na.idx <- !is.na(labels)\n",
    "\tif(sum(!non.na.idx)>0) {\n",
    "        print(paste(\"Warning: NA found in the cell type/state labels.\",\n",
    "                    \"These cells will be excluded!\"))\n",
    "    }\n",
    "\tlabels <- labels[non.na.idx]\n",
    "\tref <- ref[non.na.idx,]\n",
    "\tlabels.uniq <- unique(labels)\n",
    "\tref.collapsed <- do.call(rbind,\n",
    "\t\t\t\t\t\t\t lapply(labels.uniq,\n",
    "\t\t\t\t\t\t\t \t\tfunction(label.i) \n",
    "\t\t\t\t\t\t\t \t\t\tcolSums(ref[labels==label.i,,drop=F])\n",
    "\t\t\t\t\t\t\t \t\t)\n",
    "\t\t\t\t\t\t\t )\n",
    "\trownames(ref.collapsed) <- labels.uniq\n",
    "\treturn(ref.collapsed)\n",
    "}"
   ]
  },
  {
   "cell_type": "code",
   "execution_count": null,
   "id": "737eef02-07f4-4774-88a4-6ac2a5884515",
   "metadata": {},
   "outputs": [],
   "source": [
    "ref.ct  <- collapse(ref = sc.datX, labels = sce$cell_type)\n",
    "ref.ct  <- norm.to.one(ref = ref.ct, pseudo.min = 1E-8)\n",
    "dim(ref.ct)"
   ]
  },
  {
   "cell_type": "code",
   "execution_count": null,
   "id": "0191e02a-10f0-4707-8db4-7af82a7061bd",
   "metadata": {},
   "outputs": [],
   "source": [
    "ref.ct[1:2, 1:5]"
   ]
  },
  {
   "cell_type": "code",
   "execution_count": null,
   "id": "4e66d18d-4dfd-4e5b-b9c6-287566d45784",
   "metadata": {},
   "outputs": [],
   "source": [
    "ref.ct  <- scale(log2(ref.ct),center=T,scale=F)\n",
    "ref.ct  <- t(ref.ct)\n",
    "cor.mat <- cor(ref.ct)\n",
    "dim(cor.mat)"
   ]
  },
  {
   "cell_type": "code",
   "execution_count": null,
   "id": "51932dcd-e63e-4469-a042-0040945ffcc5",
   "metadata": {},
   "outputs": [],
   "source": [
    "for(cell in 1:39){\n",
    "    print(colnames(cor.mat)[cell])\n",
    "    print(cor.mat[cell,][cor.mat[cell,] > 0.8])\n",
    "}"
   ]
  },
  {
   "cell_type": "code",
   "execution_count": null,
   "id": "d898957a-fb8f-4b7d-a459-1a3144e9ff09",
   "metadata": {},
   "outputs": [],
   "source": [
    "sce$cell_type[sce$cell_type == \"Monocyte-derived Mph\"] <- \"Monocytes\"\n",
    "sce$cell_type <- droplevels(sce$cell_type)\n",
    "sort(table(sce$cell_type))"
   ]
  },
  {
   "cell_type": "code",
   "execution_count": null,
   "id": "01964cb9-ea4e-4433-b09c-a8e13712c177",
   "metadata": {},
   "outputs": [],
   "source": [
    "ref.ct  <- collapse(ref = sc.datX, labels = sce$cell_type)\n",
    "ref.ct  <- norm.to.one(ref = ref.ct, pseudo.min = 1E-8)\n",
    "dim(ref.ct)"
   ]
  },
  {
   "cell_type": "code",
   "execution_count": null,
   "id": "94fda830-5716-4c98-94b2-31d165bb8411",
   "metadata": {},
   "outputs": [],
   "source": [
    "ref.ct[1:2, 1:5]"
   ]
  },
  {
   "cell_type": "code",
   "execution_count": null,
   "id": "32cf0022-627b-4661-bf4a-40762b8d4dca",
   "metadata": {},
   "outputs": [],
   "source": [
    "ref.ct  <- scale(log2(ref.ct),center=T,scale=F)\n",
    "ref.ct  <- t(ref.ct)\n",
    "cor.mat <- cor(ref.ct)\n",
    "dim(cor.mat)"
   ]
  },
  {
   "cell_type": "code",
   "execution_count": null,
   "id": "88b0a0d4-5364-461e-a9d1-4c4520007531",
   "metadata": {},
   "outputs": [],
   "source": [
    "for(cell in 1:38){\n",
    "    print(colnames(cor.mat)[cell])\n",
    "    print(cor.mat[cell,][cor.mat[cell,] > 0.75])\n",
    "}"
   ]
  },
  {
   "cell_type": "markdown",
   "id": "12a07b18-4573-4bb4-afb5-9b9b3d14b190",
   "metadata": {},
   "source": [
    "## Filter outlier genes (if needed)"
   ]
  },
  {
   "cell_type": "code",
   "execution_count": null,
   "id": "02ca9a6f-ce21-4713-a8f1-51b86b034935",
   "metadata": {},
   "outputs": [],
   "source": [
    "## This is better reduction in correlation (< 0.8)\n",
    "cell_types <- sce$cell_type\n",
    "plot.cor.phi(input=sc.dat, pdf.prefix=\"lung.cor\",\n",
    "             input.labels=cell_types,\n",
    "             title=\"Cell type correlation\",\n",
    "             cexRow=0.2, cexCol=0.2, \n",
    "             margins=c(2,2))"
   ]
  },
  {
   "cell_type": "code",
   "execution_count": null,
   "id": "06acdc7a-dbe6-4bd3-be66-732e748698a8",
   "metadata": {},
   "outputs": [],
   "source": [
    "sc.stat <- plot.scRNA.outlier(\n",
    "    input=sc.dat, \n",
    "    pdf.prefix=\"lung.sc_stat\",\n",
    "    cell.type.labels=cell_types,\n",
    "    species=\"hs\", return.raw=TRUE)"
   ]
  },
  {
   "cell_type": "code",
   "execution_count": null,
   "id": "a4262889-96f5-4433-98f2-f1dc5e9d5aa8",
   "metadata": {},
   "outputs": [],
   "source": [
    "sc.stat <- plot.scRNA.outlier(\n",
    "    input=sc.dat, \n",
    "    cell.type.labels=cell_types,\n",
    "    species=\"hs\", return.raw=TRUE)"
   ]
  },
  {
   "cell_type": "code",
   "execution_count": null,
   "id": "5d55b1d2-e2c5-4927-873d-c9cf656b37fc",
   "metadata": {},
   "outputs": [],
   "source": [
    "head(sc.stat)"
   ]
  },
  {
   "cell_type": "code",
   "execution_count": null,
   "id": "15fb6a4c-2965-4ca6-9357-783a96da3d20",
   "metadata": {},
   "outputs": [],
   "source": [
    "bk.stat <- plot.bulk.outlier(\n",
    "    bulk.input=bk.dat, sc.input=sc.dat,\n",
    "    cell.type.labels=cell_types,\n",
    "    species=\"hs\", return.raw=TRUE)"
   ]
  },
  {
   "cell_type": "code",
   "execution_count": null,
   "id": "f1da9412-3877-432f-9be5-51ac49a0c3a9",
   "metadata": {},
   "outputs": [],
   "source": [
    "plot.bulk.outlier(\n",
    "    bulk.input=bk.dat, sc.input=sc.dat,\n",
    "    cell.type.labels=cell_types,\n",
    "    species=\"hs\", return.raw=FALSE,\n",
    "    pdf.prefix=\"lung.bk_stats\"\n",
    ")"
   ]
  },
  {
   "cell_type": "code",
   "execution_count": null,
   "id": "eb0725b4-3fa0-44c7-90c8-f2a1aab7960f",
   "metadata": {},
   "outputs": [],
   "source": [
    "head(bk.stat)"
   ]
  },
  {
   "cell_type": "markdown",
   "id": "f16bb5a6-82d8-45e7-8c08-0e3ddf5c5b7e",
   "metadata": {},
   "source": [
    "## Clean up single-cell reference data"
   ]
  },
  {
   "cell_type": "code",
   "execution_count": null,
   "id": "e5c6f74f-c858-4f29-b9bd-fb9bb2a33680",
   "metadata": {},
   "outputs": [],
   "source": [
    "sc.dat.filtered <- cleanup.genes(\n",
    "    input=sc.dat,\n",
    "    input.type=\"count.matrix\",\n",
    "    species=\"hs\",\n",
    "    gene.group=c(\"Rb\", \"Mrp\", \"other_Rb\", \"chrM\", \"chrX\", \n",
    "                 \"chrY\", \"MALAT1\"),\n",
    "    exp.cells=5)"
   ]
  },
  {
   "cell_type": "code",
   "execution_count": null,
   "id": "b9136b20-534c-4523-9f29-a7b999c665ff",
   "metadata": {},
   "outputs": [],
   "source": [
    "dim(sc.dat.filtered)"
   ]
  },
  {
   "cell_type": "markdown",
   "id": "8c187fed-22f0-4151-abe4-11c69f13ee88",
   "metadata": {},
   "source": [
    "## Concordance between bulk and reference"
   ]
  },
  {
   "cell_type": "code",
   "execution_count": null,
   "id": "b4945506-a563-4f60-9851-25fad1624989",
   "metadata": {},
   "outputs": [],
   "source": [
    "plot.bulk.vs.sc(sc.input=sc.dat.filtered,\n",
    "                bulk.input=bk.dat)"
   ]
  },
  {
   "cell_type": "code",
   "execution_count": null,
   "id": "a31cffd1-004d-44d5-8795-7e4291b4507b",
   "metadata": {},
   "outputs": [],
   "source": [
    "plot.bulk.vs.sc(sc.input=sc.dat.filtered,\n",
    "                bulk.input=bk.dat,\n",
    "                pdf.prefix=\"lung.bk_vs_sc\")"
   ]
  },
  {
   "cell_type": "markdown",
   "id": "d796c1f5-fb96-42fb-a6b6-b6d2605205be",
   "metadata": {},
   "source": [
    "## Subset for coding genes"
   ]
  },
  {
   "cell_type": "code",
   "execution_count": null,
   "id": "7817e9e8-93cf-4e43-a308-59c6a378fe9e",
   "metadata": {},
   "outputs": [],
   "source": [
    "sc.dat.filtered.pc <- select.gene.type(sc.dat.filtered, gene.type=\"protein_coding\")"
   ]
  },
  {
   "cell_type": "markdown",
   "id": "c1aef935-9b8c-4b8a-b115-62ca473be31c",
   "metadata": {},
   "source": [
    "# Construct prism object"
   ]
  },
  {
   "cell_type": "markdown",
   "id": "267318fc-ec90-4085-a483-53d9276926a1",
   "metadata": {},
   "source": [
    "## Protein coding only"
   ]
  },
  {
   "cell_type": "code",
   "execution_count": null,
   "id": "8b4115f1-a21c-4d55-acfa-f02f525006c6",
   "metadata": {},
   "outputs": [],
   "source": [
    "lungPrism <- new.prism(\n",
    "    reference=sc.dat.filtered.pc,\n",
    "    mixture=bk.dat,\n",
    "    input.type=\"count.matrix\",\n",
    "    cell.type.labels=cell_types,\n",
    "    cell.state.labels=cell_types,\n",
    "    outlier.cut=0.01,\n",
    "    outlier.fraction=0.1)"
   ]
  },
  {
   "cell_type": "markdown",
   "id": "98ad0e53-7447-4ac3-8d4d-12191991e481",
   "metadata": {},
   "source": [
    "## Save object"
   ]
  },
  {
   "cell_type": "code",
   "execution_count": null,
   "id": "7fcfa6c9-165f-4c19-9a60-c2034ac167ca",
   "metadata": {},
   "outputs": [],
   "source": [
    "save(lungPrism, file=\"bayesPrism_object.RData\")"
   ]
  },
  {
   "cell_type": "markdown",
   "id": "1057f037-5e6d-41ea-90dd-9101e329cc1f",
   "metadata": {},
   "source": [
    "# Reproducibility information"
   ]
  },
  {
   "cell_type": "code",
   "execution_count": null,
   "id": "b0290fe5-361f-48aa-9199-d1b913aaab9b",
   "metadata": {},
   "outputs": [],
   "source": [
    "print(\"Reproducibility information:\")\n",
    "Sys.time()\n",
    "proc.time()\n",
    "options(width = 120)\n",
    "sessioninfo::session_info()"
   ]
  }
 ],
 "metadata": {
  "kernelspec": {
   "display_name": "R",
   "language": "R",
   "name": "ir"
  },
  "language_info": {
   "codemirror_mode": "r",
   "file_extension": ".r",
   "mimetype": "text/x-r-source",
   "name": "R",
   "pygments_lexer": "r",
   "version": "4.3.3"
  }
 },
 "nbformat": 4,
 "nbformat_minor": 5
}
